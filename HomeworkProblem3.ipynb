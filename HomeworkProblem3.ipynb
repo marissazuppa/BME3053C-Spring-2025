{
  "nbformat": 4,
  "nbformat_minor": 0,
  "metadata": {
    "colab": {
      "provenance": [],
      "authorship_tag": "ABX9TyNqSyPlnJQMoovQd+cd/od+",
      "include_colab_link": true
    },
    "kernelspec": {
      "name": "python3",
      "display_name": "Python 3"
    },
    "language_info": {
      "name": "python"
    }
  },
  "cells": [
    {
      "cell_type": "markdown",
      "metadata": {
        "id": "view-in-github",
        "colab_type": "text"
      },
      "source": [
        "<a href=\"https://colab.research.google.com/github/marissazuppa/BME3053C-Spring-2025/blob/main/HomeworkProblem3.ipynb\" target=\"_parent\"><img src=\"https://colab.research.google.com/assets/colab-badge.svg\" alt=\"Open In Colab\"/></a>"
      ]
    },
    {
      "cell_type": "code",
      "execution_count": 24,
      "metadata": {
        "id": "G0IDdJdwNzS6",
        "colab": {
          "base_uri": "https://localhost:8080/"
        },
        "outputId": "5d211730-0640-42e2-9c1f-4dd5f1cb4977"
      },
      "outputs": [
        {
          "output_type": "stream",
          "name": "stdout",
          "text": [
            "Count of pgg signal peaks: 28\n"
          ]
        }
      ],
      "source": [
        "import random\n",
        "import math\n",
        "ppg_signal = [1000 + 100 * math.sin(0.1 * x) + random.randint(-20, 20) for x in range(100)]\n",
        "\n",
        "def count_peaks(pgg_signal):\n",
        "  peak_count = 0\n",
        "  for i in range(1, len(pgg_signal) - 2):\n",
        "    if (pgg_signal[i] > pgg_signal[i - 1]) and (pgg_signal[i] > pgg_signal[i + 1]):\n",
        "      peak_count += 1\n",
        "\n",
        "  print(f\"Count of pgg signal peaks: {peak_count}\")\n",
        "\n",
        "count_peaks(ppg_signal)\n",
        "\n",
        "\n",
        "\n"
      ]
    }
  ]
}