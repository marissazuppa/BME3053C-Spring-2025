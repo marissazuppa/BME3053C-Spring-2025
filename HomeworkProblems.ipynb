{
  "nbformat": 4,
  "nbformat_minor": 0,
  "metadata": {
    "colab": {
      "provenance": [],
      "authorship_tag": "ABX9TyOFf2RYbGYtJif3RIpi8fQg",
      "include_colab_link": true
    },
    "kernelspec": {
      "name": "python3",
      "display_name": "Python 3"
    },
    "language_info": {
      "name": "python"
    }
  },
  "cells": [
    {
      "cell_type": "markdown",
      "metadata": {
        "id": "view-in-github",
        "colab_type": "text"
      },
      "source": [
        "<a href=\"https://colab.research.google.com/github/marissazuppa/BME3053C-Spring-2025/blob/main/HomeworkProblems.ipynb\" target=\"_parent\"><img src=\"https://colab.research.google.com/assets/colab-badge.svg\" alt=\"Open In Colab\"/></a>"
      ]
    },
    {
      "cell_type": "code",
      "execution_count": 24,
      "metadata": {
        "id": "lMfoU01WgldO",
        "colab": {
          "base_uri": "https://localhost:8080/"
        },
        "outputId": "45ce32c0-8981-410f-c88a-0318e9c52e49"
      },
      "outputs": [
        {
          "output_type": "execute_result",
          "data": {
            "text/plain": [
              "[0.0, 0.321, 0.585, 0.057, 0.792, 1.0, 0.132, 0.642]"
            ]
          },
          "metadata": {},
          "execution_count": 24
        }
      ],
      "source": [
        "bp_readings =[120, 137, 151, 123, 162, 173, 127, 154]\n",
        "\n",
        "def bp_normalizer(bp_readings):\n",
        "  normalized_values= []\n",
        "  for i in range(len(bp_readings)):\n",
        "    normalized_value = (bp_readings[i] - min(bp_readings))/(max(bp_readings) - min(bp_readings))\n",
        "    normalized_values.append(normalized_value)\n",
        "\n",
        "  format_normalized_value= [round(value, 3) for value in normalized_values]\n",
        "  return format_normalized_value\n",
        "  print(format_normalized_value)\n",
        "\n",
        "bp_normalizer(bp_readings)"
      ]
    },
    {
      "cell_type": "code",
      "source": [],
      "metadata": {
        "id": "Fw_wI6LrlQal"
      },
      "execution_count": null,
      "outputs": []
    }
  ]
}